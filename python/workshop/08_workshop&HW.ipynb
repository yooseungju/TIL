{
 "cells": [
  {
   "cell_type": "markdown",
   "metadata": {},
   "source": [
    "### 08_workshop\n",
    "#### Flask 사용법"
   ]
  },
  {
   "cell_type": "code",
   "execution_count": null,
   "metadata": {},
   "outputs": [
    {
     "name": "stdout",
     "output_type": "stream",
     "text": [
      " * Serving Flask app \"__main__\" (lazy loading)\n",
      " * Environment: production\n",
      "   WARNING: Do not use the development server in a production environment.\n",
      "   Use a production WSGI server instead.\n",
      " * Debug mode: off\n"
     ]
    },
    {
     "name": "stderr",
     "output_type": "stream",
     "text": [
      " * Running on http://127.0.0.1:5000/ (Press CTRL+C to quit)\n",
      "127.0.0.1 - - [11/Jan/2019 15:50:37] \"GET / HTTP/1.1\" 200 -\n",
      "127.0.0.1 - - [11/Jan/2019 15:50:49] \"GET /dictionary/apple HTTP/1.1\" 200 -\n",
      "127.0.0.1 - - [11/Jan/2019 15:51:09] \"GET / HTTP/1.1\" 200 -\n",
      "127.0.0.1 - - [11/Jan/2019 15:51:15] \"GET /dictionary/apple HTTP/1.1\" 200 -\n",
      "127.0.0.1 - - [11/Jan/2019 15:51:20] \"GET /dictionary/ddd HTTP/1.1\" 200 -\n"
     ]
    }
   ],
   "source": [
    "from flask import Flask, render_template\n",
    "\n",
    "app = Flask(__name__)\n",
    "\n",
    "@app.route('/')\n",
    "def home():\n",
    "    return '안녕하세요'\n",
    "\n",
    "# route는 url 주소\n",
    "@app.route('/html')\n",
    "def html():\n",
    "    return render_template('chicken.html')\n",
    "\n",
    "# name을 chicken.html로 값을 넘겨준다\n",
    "@app.route('/html_name/<string:name>')\n",
    "def html_name(name):\n",
    "    return render_template('chicken.html', name = name)\n",
    "\n",
    "\n",
    "\n",
    "if __name__ == '__main__':\n",
    "    app.run() "
   ]
  },
  {
   "cell_type": "code",
   "execution_count": null,
   "metadata": {},
   "outputs": [],
   "source": [
    "@app.route('/dictionary/<string:word>')\n",
    "def dictionary(word):\n",
    "    if word not in words.keys():\n",
    "        return f'{word}는 없는 단어입니다.'\n",
    "    else:\n",
    "        return f'{word}는 {words[word]}입니다'"
   ]
  },
  {
   "cell_type": "markdown",
   "metadata": {},
   "source": [
    "### 혹은"
   ]
  },
  {
   "cell_type": "code",
   "execution_count": null,
   "metadata": {},
   "outputs": [],
   "source": [
    "@app.route('/dictionary/<string:word>')\n",
    "def dictionary(word):\n",
    "    words = {'orenge': '오렌지'}\n",
    "    if word not in words.keys():\n",
    "        return render_template(word.html, word = word , words = words)"
   ]
  },
  {
   "cell_type": "markdown",
   "metadata": {},
   "source": [
    "### word.html \n",
    "***\n",
    "<pre> {%if word in words%}\n",
    " {{word}} 는 {{ word_dict[word] }} 입니다. \n",
    "{% else %}\n",
    " {{word}}는 없는 단어 입니다. </pre>"
   ]
  },
  {
   "cell_type": "code",
   "execution_count": null,
   "metadata": {},
   "outputs": [],
   "source": []
  }
 ],
 "metadata": {
  "kernelspec": {
   "display_name": "Python 3",
   "language": "python",
   "name": "python3"
  },
  "language_info": {
   "codemirror_mode": {
    "name": "ipython",
    "version": 3
   },
   "file_extension": ".py",
   "mimetype": "text/x-python",
   "name": "python",
   "nbconvert_exporter": "python",
   "pygments_lexer": "ipython3",
   "version": "3.6.7"
  }
 },
 "nbformat": 4,
 "nbformat_minor": 2
}
