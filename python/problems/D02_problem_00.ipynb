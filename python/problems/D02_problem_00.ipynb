{
 "cells": [
  {
   "cell_type": "markdown",
   "metadata": {},
   "source": [
    "# 가상화폐 시세 판단하기"
   ]
  },
  {
   "cell_type": "markdown",
   "metadata": {},
   "source": [
    "> 최고가와 최저가의 차이를 변동폭으로 정의할 때 (시가 + 변동폭)이 최고가 보다 높을 경우 \"상승장\", 그렇지 않은 경우 \"하락장\" 문자열을 출력하라.\n",
    "\n",
    "|Key Name        |     Description|\n",
    "|---|---|\n",
    "|opeing_price    |최근 24시간 내 시작 거래금액|\n",
    "|closing_price   |최근 24시간 내 마지막 거래금액|\n",
    "|min_price       |최근 24시간 내 최저 거래금액|\n",
    "|max_price       |최근 24시간 내 최고 거래금액|"
   ]
  },
  {
   "cell_type": "code",
   "execution_count": 15,
   "metadata": {},
   "outputs": [
    {
     "name": "stdout",
     "output_type": "stream",
     "text": [
      "{'opening_price': '4310000', 'closing_price': '4280000', 'min_price': '4250000', 'max_price': '4339000', 'average_price': '4301806.4758', 'units_traded': '18083.3034869', 'volume_1day': '18083.3034869', 'volume_7day': '56309.0830817', 'buy_price': '4281000', 'sell_price': '4285000', '24H_fluctate': '-30000', '24H_fluctate_rate': '-0.69', 'date': '1546566665476'}\n"
     ]
    }
   ],
   "source": [
    "import requests\n",
    "btc = requests.get('https://api.bithumb.com/public/ticker/btc').json()['data']\n",
    "print(btc)"
   ]
  },
  {
   "cell_type": "code",
   "execution_count": 24,
   "metadata": {},
   "outputs": [
    {
     "name": "stdout",
     "output_type": "stream",
     "text": [
      "상승장\n"
     ]
    }
   ],
   "source": [
    "# 아래에 코드를 작성하세요.\n",
    "\n",
    "#싯가: opeening_price\n",
    "# 최고값 max_price\n",
    "opn = float(btc['opening_price'])\n",
    "flu = float(btc['max_price']) - float(btc['min_price'])\n",
    "max_p =float(btc['max_price'])\n",
    "           \n",
    "           \n",
    "if opn+flu > max_p:\n",
    "           print('상승장')\n",
    "else:\n",
    "    print('하락장')\n",
    "           "
   ]
  },
  {
   "cell_type": "markdown",
   "metadata": {},
   "source": [
    "## 모든 가상화폐 시세 판단하기\n",
    "\n",
    "\n",
    "> currrency dictionary에 담겨있는 모든 가상화폐 거래내역을 바탕으로 출력하라.\n",
    ">\n",
    "> 예외 처리에 유의하세요.\n",
    "\n",
    "\n",
    "\n",
    "```\n",
    "예시 출력)\n",
    "BTC 상승장\n",
    "ETH 상승장\n",
    "DASH 상승장\n",
    "LTC 하락장\n",
    "ETC 하락장\n",
    "XRP 상승장\n",
    "BCH 상승장\n",
    "...\n",
    "```\n"
   ]
  },
  {
   "cell_type": "code",
   "execution_count": 40,
   "metadata": {},
   "outputs": [
    {
     "name": "stdout",
     "output_type": "stream",
     "text": [
      "{'BTC': {'opening_price': '4317000', 'closing_price': '4278000', 'min_price': '4250000', 'max_price': '4339000', 'average_price': '4301596.5788', 'units_traded': '18073.08538032', 'volume_1day': '18073.08538032', 'volume_7day': '56272.97174155', 'buy_price': '4278000', 'sell_price': '4282000', '24H_fluctate': '-39000', '24H_fluctate_rate': '-0.90'}, 'ETH': {'opening_price': '170100', 'closing_price': '167500', 'min_price': '163500', 'max_price': '173800', 'average_price': '168182.1698', 'units_traded': '581249.88804694', 'volume_1day': '581249.88804694', 'volume_7day': '1971329.512007973008176219', 'buy_price': '167500', 'sell_price': '167600', '24H_fluctate': '-2600', '24H_fluctate_rate': '-1.52'}, 'DASH': {'opening_price': '93500', 'closing_price': '90600', 'min_price': '88100', 'max_price': '93800', 'average_price': '90931.3204', 'units_traded': '3957082.60453308', 'volume_1day': '3957082.60453308', 'volume_7day': '32141973.13682674', 'buy_price': '90400', 'sell_price': '90700', '24H_fluctate': '-2900', '24H_fluctate_rate': '-3.10'}, 'LTC': {'opening_price': '36550', 'closing_price': '35800', 'min_price': '34940', 'max_price': '36920', 'average_price': '35948.5025', 'units_traded': '12469.44119976', 'volume_1day': '12469.44119976', 'volume_7day': '176075.55492017', 'buy_price': '35700', 'sell_price': '35800', '24H_fluctate': '-750', '24H_fluctate_rate': '-2.05'}, 'ETC': {'opening_price': '5950', 'closing_price': '5685', 'min_price': '5640', 'max_price': '5995', 'average_price': '5781.5086', 'units_traded': '527685.52539124', 'volume_1day': '527685.52539124', 'volume_7day': '1873490.196914439873039507', 'buy_price': '5685', 'sell_price': '5700', '24H_fluctate': '-265', '24H_fluctate_rate': '-4.45'}, 'XRP': {'opening_price': '410', 'closing_price': '401', 'min_price': '397', 'max_price': '413', 'average_price': '404.1484', 'units_traded': '46600325.47852507', 'volume_1day': '46600325.47852507', 'volume_7day': '475296684.80779362', 'buy_price': '401', 'sell_price': '402', '24H_fluctate': '-9', '24H_fluctate_rate': '-2.19'}, 'BCH': {'opening_price': '192000', 'closing_price': '181600', 'min_price': '177300', 'max_price': '192700', 'average_price': '184075.5656', 'units_traded': '47904.64376222', 'volume_1day': '47904.64376222', 'volume_7day': '555197.59040617', 'buy_price': '181500', 'sell_price': '181900', '24H_fluctate': '-10400', '24H_fluctate_rate': '-5.41'}, 'XMR': {'opening_price': '56850', 'closing_price': '55450', 'min_price': '55000', 'max_price': '57500', 'average_price': '56004.8494', 'units_traded': '12444581.74161319', 'volume_1day': '12444581.74161319', 'volume_7day': '67420234.945024596036', 'buy_price': '55250', 'sell_price': '55450', '24H_fluctate': '-1400', '24H_fluctate_rate': '-2.46'}, 'ZEC': {'opening_price': '67100', 'closing_price': '65500', 'min_price': '64150', 'max_price': '67350', 'average_price': '65708.2914', 'units_traded': '35961.97224304', 'volume_1day': '35961.97224304', 'volume_7day': '33687660.42902229', 'buy_price': '65450', 'sell_price': '65500', '24H_fluctate': '-1600', '24H_fluctate_rate': '-2.38'}, 'QTUM': {'opening_price': '2564', 'closing_price': '2491', 'min_price': '2449', 'max_price': '2567', 'average_price': '2495.4137', 'units_traded': '676348.78363422', 'volume_1day': '676348.78363422', 'volume_7day': '2945822.3250343', 'buy_price': '2487', 'sell_price': '2495', '24H_fluctate': '-73', '24H_fluctate_rate': '-2.84'}, 'BTG': {'opening_price': '14900', 'closing_price': '14410', 'min_price': '12970', 'max_price': '15040', 'average_price': '14526.8098', 'units_traded': '22430412.64794494', 'volume_1day': '22430412.64794494', 'volume_7day': '98513485.57345587', 'buy_price': '14390', 'sell_price': '14410', '24H_fluctate': '-490', '24H_fluctate_rate': '-3.28'}, 'EOS': {'opening_price': '3128', 'closing_price': '3000', 'min_price': '2930', 'max_price': '3166', 'average_price': '3047.3789', 'units_traded': '2415096.46782813', 'volume_1day': '2415096.46782813', 'volume_7day': '22788094.55356183', 'buy_price': '2996', 'sell_price': '3000', '24H_fluctate': '-128', '24H_fluctate_rate': '-4.09'}, 'ICX': {'opening_price': '290', 'closing_price': '292', 'min_price': '281', 'max_price': '318', 'average_price': '294.8896', 'units_traded': '2093080.79556089', 'volume_1day': '2093080.79556089', 'volume_7day': '5012731.551027308297395376', 'buy_price': '292', 'sell_price': '295', '24H_fluctate': '2', '24H_fluctate_rate': '0.68'}, 'VET': {'opening_price': '7.25', 'closing_price': '7.1', 'min_price': '7.09', 'max_price': '7.35', 'average_price': '7.2008', 'units_traded': '7803683.77698701', 'volume_1day': '7803683.77698701', 'volume_7day': '72321314.03276151956123794', 'buy_price': '7.1', 'sell_price': '7.13', '24H_fluctate': '-0.15', '24H_fluctate_rate': '-2.06'}, 'TRX': {'opening_price': '21.9', 'closing_price': '22.5', 'min_price': '21.8', 'max_price': '23.2', 'average_price': '22.4308', 'units_traded': '221977268.35091496', 'volume_1day': '221977268.35091496', 'volume_7day': '945422726.0394994', 'buy_price': '22.4', 'sell_price': '22.5', '24H_fluctate': '0.6', '24H_fluctate_rate': '2.73'}, 'ELF': {'opening_price': '128', 'closing_price': '135', 'min_price': '125', 'max_price': '139', 'average_price': '132.1769', 'units_traded': '5087475.50210202', 'volume_1day': '5087475.50210202', 'volume_7day': '18483619.311288335405889591', 'buy_price': '134', 'sell_price': '135', '24H_fluctate': '7', '24H_fluctate_rate': '5.46'}, 'MITH': {'opening_price': '71.1', 'closing_price': '69.3', 'min_price': '68.3', 'max_price': '71.4', 'average_price': '69.8751', 'units_traded': '9403714.84520668', 'volume_1day': '9403714.84520668', 'volume_7day': '107193907.38960550599621313', 'buy_price': '69', 'sell_price': '69.3', '24H_fluctate': '-1.8', '24H_fluctate_rate': '-2.53'}, 'MCO': {'opening_price': '2619', 'closing_price': '2622', 'min_price': '2533', 'max_price': '2645', 'average_price': '2584.9886', 'units_traded': '804482.76880361', 'volume_1day': '804482.76880361', 'volume_7day': '1917843.15067829', 'buy_price': '2587', 'sell_price': '2623', '24H_fluctate': '3', '24H_fluctate_rate': '0.11'}, 'OMG': {'opening_price': '1660', 'closing_price': '1656', 'min_price': '1612', 'max_price': '1691', 'average_price': '1647.6737', 'units_traded': '1248631.27073158', 'volume_1day': '1248631.27073158', 'volume_7day': '10926681.587721818906013623', 'buy_price': '1643', 'sell_price': '1656', '24H_fluctate': '-4', '24H_fluctate_rate': '-0.24'}, 'KNC': {'opening_price': '184', 'closing_price': '176', 'min_price': '173', 'max_price': '185', 'average_price': '179.6701', 'units_traded': '843637.98255387', 'volume_1day': '843637.98255387', 'volume_7day': '7214318.672790646089975132', 'buy_price': '176', 'sell_price': '177', '24H_fluctate': '-8', '24H_fluctate_rate': '-4.34'}, 'GNT': {'opening_price': '77', 'closing_price': '76.3', 'min_price': '75.3', 'max_price': '78.5', 'average_price': '76.5394', 'units_traded': '1065704.82459068', 'volume_1day': '1065704.82459068', 'volume_7day': '37311327.099545753986240579', 'buy_price': '75.5', 'sell_price': '76.2', '24H_fluctate': '-0.7', '24H_fluctate_rate': '-0.90'}, 'ZIL': {'opening_price': '22.6', 'closing_price': '22.2', 'min_price': '22', 'max_price': '22.7', 'average_price': '22.3751', 'units_traded': '19768969.19658188', 'volume_1day': '19768969.19658188', 'volume_7day': '457211311.130613354635', 'buy_price': '22.2', 'sell_price': '22.3', '24H_fluctate': '-0.4', '24H_fluctate_rate': '-1.76'}, 'ETHOS': {'opening_price': '1106', 'closing_price': '1095', 'min_price': '1050', 'max_price': '1177', 'average_price': '1107.8531', 'units_traded': '256550.45917046', 'volume_1day': '256550.45917046', 'volume_7day': '6312720.00446809', 'buy_price': '1089', 'sell_price': '1095', '24H_fluctate': '-11', '24H_fluctate_rate': '-0.99'}, 'PAY': {'opening_price': '1801', 'closing_price': '1750', 'min_price': '1730', 'max_price': '1845', 'average_price': '1789.0868', 'units_traded': '195730.74530496', 'volume_1day': '195730.74530496', 'volume_7day': '8428339.501725144795132158', 'buy_price': '1750', 'sell_price': '1760', '24H_fluctate': '-51', '24H_fluctate_rate': '-2.83'}, 'WAX': {'opening_price': '108', 'closing_price': '104', 'min_price': '104', 'max_price': '108', 'average_price': '105.6532', 'units_traded': '846199.64519347', 'volume_1day': '846199.64519347', 'volume_7day': '18107503.19963879', 'buy_price': '104', 'sell_price': '105', '24H_fluctate': '-4', '24H_fluctate_rate': '-3.70'}, 'POWR': {'opening_price': '538', 'closing_price': '516', 'min_price': '512', 'max_price': '545', 'average_price': '529.1245', 'units_traded': '419482.45892986', 'volume_1day': '419482.45892986', 'volume_7day': '6127683.26698003', 'buy_price': '514', 'sell_price': '516', '24H_fluctate': '-22', '24H_fluctate_rate': '-4.08'}, 'LRC': {'opening_price': '590', 'closing_price': '563', 'min_price': '563', 'max_price': '595', 'average_price': '577.722', 'units_traded': '131906.23658059', 'volume_1day': '131906.23658059', 'volume_7day': '2928033.480571617643527395', 'buy_price': '563', 'sell_price': '569', '24H_fluctate': '-27', '24H_fluctate_rate': '-4.57'}, 'GTO': {'opening_price': '73.1', 'closing_price': '72.2', 'min_price': '71.2', 'max_price': '78.1', 'average_price': '74.1381', 'units_traded': '2166086.82322207', 'volume_1day': '2166086.82322207', 'volume_7day': '24930166.17785879', 'buy_price': '72.2', 'sell_price': '73', '24H_fluctate': '-0.89', '24H_fluctate_rate': '-1.23'}, 'STEEM': {'opening_price': '1879', 'closing_price': '1837', 'min_price': '1784', 'max_price': '1879', 'average_price': '1825.5039', 'units_traded': '75571.1868933', 'volume_1day': '75571.1868933', 'volume_7day': '1365981.1535473', 'buy_price': '1804', 'sell_price': '1838', '24H_fluctate': '-42', '24H_fluctate_rate': '-2.23'}, 'STRAT': {'opening_price': '2885', 'closing_price': '2884', 'min_price': '2751', 'max_price': '2919', 'average_price': '2843.5027', 'units_traded': '24883.65695097', 'volume_1day': '24883.65695097', 'volume_7day': '491312.1239285', 'buy_price': '2805', 'sell_price': '2884', '24H_fluctate': '-1', '24H_fluctate_rate': '-0.03'}, 'ZRX': {'opening_price': '361', 'closing_price': '360', 'min_price': '356', 'max_price': '370', 'average_price': '363.8487', 'units_traded': '992709.19075099', 'volume_1day': '992709.19075099', 'volume_7day': '5922544.072481677377380573', 'buy_price': '360', 'sell_price': '361', '24H_fluctate': '-1', '24H_fluctate_rate': '-0.27'}, 'REP': {'opening_price': '98100', 'closing_price': '96250', 'min_price': '94800', 'max_price': '99300', 'average_price': '96924.4883', 'units_traded': '3749.14903329', 'volume_1day': '3749.14903329', 'volume_7day': '94398.857148120518075148', 'buy_price': '95300', 'sell_price': '96200', '24H_fluctate': '-1850', '24H_fluctate_rate': '-1.88'}, 'AE': {'opening_price': '1633', 'closing_price': '1602', 'min_price': '1600', 'max_price': '1678', 'average_price': '1632.8657', 'units_traded': '67148.21845548', 'volume_1day': '67148.21845548', 'volume_7day': '1901660.58296807896023566', 'buy_price': '1602', 'sell_price': '1621', '24H_fluctate': '-31', '24H_fluctate_rate': '-1.89'}, 'XEM': {'opening_price': '73.3', 'closing_price': '72.3', 'min_price': '72', 'max_price': '75.4', 'average_price': '73.2274', 'units_traded': '2185898.42105356', 'volume_1day': '2185898.42105356', 'volume_7day': '21653180.23743651', 'buy_price': '72.3', 'sell_price': '73.2', '24H_fluctate': '-1', '24H_fluctate_rate': '-1.36'}, 'SNT': {'opening_price': '115', 'closing_price': '116', 'min_price': '112', 'max_price': '120', 'average_price': '116.472', 'units_traded': '1716854.10678952', 'volume_1day': '1716854.10678952', 'volume_7day': '24386765.772611629713343892', 'buy_price': '115', 'sell_price': '116', '24H_fluctate': '1', '24H_fluctate_rate': '0.86'}, 'ADA': {'opening_price': '78.5', 'closing_price': '75.8', 'min_price': '75.1', 'max_price': '79.3', 'average_price': '77.2296', 'units_traded': '2111417.6356801', 'volume_1day': '2111417.6356801', 'volume_7day': '39829301.35566205', 'buy_price': '75.7', 'sell_price': '76.4', '24H_fluctate': '-2.7', '24H_fluctate_rate': '-3.43'}, 'PPT': {'opening_price': '1680', 'closing_price': '1670', 'min_price': '1621', 'max_price': '1691', 'average_price': '1663.2205', 'units_traded': '36687.2591', 'volume_1day': '36687.2591', 'volume_7day': '689828.48186665', 'buy_price': '1653', 'sell_price': '1670', '24H_fluctate': '-10', '24H_fluctate_rate': '-0.59'}, 'CTXC': {'opening_price': '120', 'closing_price': '116', 'min_price': '113', 'max_price': '124', 'average_price': '118.1146', 'units_traded': '1353029.80551294', 'volume_1day': '1353029.80551294', 'volume_7day': '11516044.224321014673753123', 'buy_price': '115', 'sell_price': '117', '24H_fluctate': '-4', '24H_fluctate_rate': '-3.33'}, 'CMT': {'opening_price': '35.3', 'closing_price': '34.6', 'min_price': '32.4', 'max_price': '36.2', 'average_price': '34.5889', 'units_traded': '4818055.87345042', 'volume_1day': '4818055.87345042', 'volume_7day': '36608959.691895702860476475', 'buy_price': '34.6', 'sell_price': '34.7', '24H_fluctate': '-0.7', '24H_fluctate_rate': '-1.98'}, 'THETA': {'opening_price': '57.1', 'closing_price': '56.4', 'min_price': '55.4', 'max_price': '62.8', 'average_price': '58.0206', 'units_traded': '17970794.5153032', 'volume_1day': '17970794.5153032', 'volume_7day': '92747031.877252723980381096', 'buy_price': '56.3', 'sell_price': '56.4', '24H_fluctate': '-0.7', '24H_fluctate_rate': '-1.22'}, 'WTC': {'opening_price': '1267', 'closing_price': '1282', 'min_price': '1253', 'max_price': '1328', 'average_price': '1285.9565', 'units_traded': '228615.00387532', 'volume_1day': '228615.00387532', 'volume_7day': '2371659.744104949026476302', 'buy_price': '1268', 'sell_price': '1282', '24H_fluctate': '15', '24H_fluctate_rate': '1.18'}, 'ITC': {'opening_price': '140', 'closing_price': '137', 'min_price': '133', 'max_price': '141', 'average_price': '136.7199', 'units_traded': '1468878.15434434', 'volume_1day': '1468878.15434434', 'volume_7day': '17820258.614070639705758781', 'buy_price': '136', 'sell_price': '137', '24H_fluctate': '-3', '24H_fluctate_rate': '-2.14'}, 'TRUE': {'opening_price': '292', 'closing_price': '326', 'min_price': '287', 'max_price': '337', 'average_price': '305.8481', 'units_traded': '2096387.57525577', 'volume_1day': '2096387.57525577', 'volume_7day': '8371064.996013637773447992', 'buy_price': '315', 'sell_price': '326', '24H_fluctate': '34', '24H_fluctate_rate': '11.64'}, 'ABT': {'opening_price': '100', 'closing_price': '96.1', 'min_price': '94.1', 'max_price': '115', 'average_price': '103.2994', 'units_traded': '11521611.28591732', 'volume_1day': '11521611.28591732', 'volume_7day': '50380254.669295697921657788', 'buy_price': '96.1', 'sell_price': '96.8', '24H_fluctate': '-3.9', '24H_fluctate_rate': '-3.90'}, 'RNT': {'opening_price': '136', 'closing_price': '144', 'min_price': '116', 'max_price': '183', 'average_price': '145.6081', 'units_traded': '81688051.55197549', 'volume_1day': '81688051.55197549', 'volume_7day': '183927133.406557193888509696', 'buy_price': '144', 'sell_price': '145', '24H_fluctate': '8', '24H_fluctate_rate': '5.88'}, 'PLY': {'opening_price': '38.2', 'closing_price': '37.7', 'min_price': '36.4', 'max_price': '40', 'average_price': '38.178', 'units_traded': '10198568.6013848', 'volume_1day': '10198568.6013848', 'volume_7day': '108836669.557638524', 'buy_price': '37.6', 'sell_price': '37.7', '24H_fluctate': '-0.5', '24H_fluctate_rate': '-1.30'}, 'WAVES': {'opening_price': '3458', 'closing_price': '3458', 'min_price': '3419', 'max_price': '3550', 'average_price': '3484.1071', 'units_traded': '174280.47991167', 'volume_1day': '174280.47991167', 'volume_7day': '2678159.83460588', 'buy_price': '3444', 'sell_price': '3468', '24H_fluctate': '0', '24H_fluctate_rate': '0.00'}, 'LINK': {'opening_price': '385', 'closing_price': '417', 'min_price': '358', 'max_price': '446', 'average_price': '402.4213', 'units_traded': '12660565.5490349', 'volume_1day': '12660565.5490349', 'volume_7day': '16476890.250821760475708323', 'buy_price': '415', 'sell_price': '417', '24H_fluctate': '32', '24H_fluctate_rate': '8.31'}, 'ENJ': {'opening_price': '44.8', 'closing_price': '43.2', 'min_price': '42.6', 'max_price': '45.7', 'average_price': '44.0417', 'units_traded': '3477823.53158923', 'volume_1day': '3477823.53158923', 'volume_7day': '23052201.634158192816118614', 'buy_price': '43.2', 'sell_price': '43.5', '24H_fluctate': '-1.6', '24H_fluctate_rate': '-3.57'}, 'PST': {'opening_price': '113', 'closing_price': '110', 'min_price': '107', 'max_price': '117', 'average_price': '111.5598', 'units_traded': '800099.89976885', 'volume_1day': '800099.89976885', 'volume_7day': '9443862.751911780616582618', 'buy_price': '109', 'sell_price': '111', '24H_fluctate': '-3', '24H_fluctate_rate': '-2.65'}, 'SALT': {'opening_price': '282', 'closing_price': '263', 'min_price': '262', 'max_price': '289', 'average_price': '274.3493', 'units_traded': '1542731.05845762', 'volume_1day': '1542731.05845762', 'volume_7day': '12803087.39722145', 'buy_price': '263', 'sell_price': '267', '24H_fluctate': '-19', '24H_fluctate_rate': '-6.73'}, 'RDN': {'opening_price': '333', 'closing_price': '297', 'min_price': '279', 'max_price': '345', 'average_price': '312.1047', 'units_traded': '7306982.95666833', 'volume_1day': '7306982.95666833', 'volume_7day': '25478872.079642721353021321', 'buy_price': '294', 'sell_price': '296', '24H_fluctate': '-36', '24H_fluctate_rate': '-10.81'}, 'LOOM': {'opening_price': '56.4', 'closing_price': '55', 'min_price': '53.1', 'max_price': '63.8', 'average_price': '57.657', 'units_traded': '23923899.87196854', 'volume_1day': '23923899.87196854', 'volume_7day': '47073888.889544511561186799', 'buy_price': '54.3', 'sell_price': '55', '24H_fluctate': '-1.4', '24H_fluctate_rate': '-2.48'}, 'BHPC': {'opening_price': '906', 'closing_price': '905', 'min_price': '890', 'max_price': '927', 'average_price': '910.2302', 'units_traded': '451102.19675765', 'volume_1day': '451102.19675765', 'volume_7day': '8371169.073761527652769304', 'buy_price': '902', 'sell_price': '905', '24H_fluctate': '-1', '24H_fluctate_rate': '-0.11'}, 'PIVX': {'opening_price': '961', 'closing_price': '925', 'min_price': '914', 'max_price': '973', 'average_price': '940.0792', 'units_traded': '157802.76920544', 'volume_1day': '157802.76920544', 'volume_7day': '10440404.93744645', 'buy_price': '916', 'sell_price': '926', '24H_fluctate': '-36', '24H_fluctate_rate': '-3.74'}, 'INS': {'opening_price': '332', 'closing_price': '349', 'min_price': '316', 'max_price': '366', 'average_price': '339.1906', 'units_traded': '4396763.9066279', 'volume_1day': '4396763.9066279', 'volume_7day': '11843464.9704243662', 'buy_price': '349', 'sell_price': '351', '24H_fluctate': '17', '24H_fluctate_rate': '5.12'}, 'BCD': {'opening_price': '1037', 'closing_price': '1007', 'min_price': '997', 'max_price': '1040', 'average_price': '1017.1774', 'units_traded': '114140.91638184', 'volume_1day': '114140.91638184', 'volume_7day': '1808615.62850526', 'buy_price': '1002', 'sell_price': '1007', '24H_fluctate': '-30', '24H_fluctate_rate': '-2.89'}, 'BZNT': {'opening_price': '27.9', 'closing_price': '27.8', 'min_price': '27', 'max_price': '29.3', 'average_price': '27.9409', 'units_traded': '35370551.00304837', 'volume_1day': '35370551.00304837', 'volume_7day': '191533708.244233452831885565', 'buy_price': '27.8', 'sell_price': '27.9', '24H_fluctate': '-0.09', '24H_fluctate_rate': '-0.35'}, 'XLM': {'opening_price': '130', 'closing_price': '127', 'min_price': '126', 'max_price': '131', 'average_price': '128.1765', 'units_traded': '4785755.14242867', 'volume_1day': '4785755.14242867', 'volume_7day': '47785760.49395804', 'buy_price': '126', 'sell_price': '127', '24H_fluctate': '-3', '24H_fluctate_rate': '-2.30'}, 'OCN': {'opening_price': '4', 'closing_price': '3.78', 'min_price': '3.67', 'max_price': '4.05', 'average_price': '3.8507', 'units_traded': '55683065.56548849', 'volume_1day': '55683065.56548849', 'volume_7day': '1604334484.314913560050201454', 'buy_price': '3.78', 'sell_price': '3.79', '24H_fluctate': '-0.22', '24H_fluctate_rate': '-5.50'}, 'BSV': {'opening_price': '103800', 'closing_price': '99800', 'min_price': '97400', 'max_price': '104400', 'average_price': '100558.4214', 'units_traded': '24001.91189732', 'volume_1day': '24001.91189732', 'volume_7day': '270185.40634518', 'buy_price': '99800', 'sell_price': '100000', '24H_fluctate': '-4000', '24H_fluctate_rate': '-3.85'}, 'TMTG': {'opening_price': '8.38', 'closing_price': '8.14', 'min_price': '8.09', 'max_price': '8.41', 'average_price': '8.2521', 'units_traded': '203372028.44219432', 'volume_1day': '203372028.44219432', 'volume_7day': '1486223079.862187940161481648', 'buy_price': '8.13', 'sell_price': '8.15', '24H_fluctate': '-0.24', '24H_fluctate_rate': '-2.86'}, 'BAT': {'opening_price': '150', 'closing_price': '146', 'min_price': '144', 'max_price': '154', 'average_price': '147.1734', 'units_traded': '1532252.19096719', 'volume_1day': '1532252.19096719', 'volume_7day': '7026678.053205260973386136', 'buy_price': '146', 'sell_price': '148', '24H_fluctate': '-4', '24H_fluctate_rate': '-2.66'}, 'WET': {'opening_price': '14.2', 'closing_price': '14', 'min_price': '13.9', 'max_price': '14.4', 'average_price': '14.0808', 'units_traded': '18616502.81774204', 'volume_1day': '18616502.81774204', 'volume_7day': '195781954.289909116950969508', 'buy_price': '13.9', 'sell_price': '14', '24H_fluctate': '-0.2', '24H_fluctate_rate': '-1.40'}, 'XVG': {'opening_price': '7.93', 'closing_price': '7.86', 'min_price': '7.72', 'max_price': '8.04', 'average_price': '7.8699', 'units_traded': '5886608.14982363', 'volume_1day': '5886608.14982363', 'volume_7day': '51452796.89438424', 'buy_price': '7.76', 'sell_price': '7.86', '24H_fluctate': '-0.06', '24H_fluctate_rate': '-0.88'}, 'IOST': {'opening_price': '6.44', 'closing_price': '6.38', 'min_price': '6.16', 'max_price': '6.52', 'average_price': '6.3326', 'units_traded': '423008565.34388327', 'volume_1day': '423008565.34388327', 'volume_7day': '1446126677.099736040869225289', 'buy_price': '6.24', 'sell_price': '6.38', '24H_fluctate': '-0.06', '24H_fluctate_rate': '-0.93'}, 'POLY': {'opening_price': '161', 'closing_price': '158', 'min_price': '155', 'max_price': '162', 'average_price': '157.4551', 'units_traded': '1213421.33049114', 'volume_1day': '1213421.33049114', 'volume_7day': '9984112.854597255355654461', 'buy_price': '156', 'sell_price': '157', '24H_fluctate': '-3', '24H_fluctate_rate': '-1.86'}, 'HC': {'opening_price': '1430', 'closing_price': '1426', 'min_price': '1380', 'max_price': '1512', 'average_price': '1444.6351', 'units_traded': '82147.83733315', 'volume_1day': '82147.83733315', 'volume_7day': '888283.17960032', 'buy_price': '1411', 'sell_price': '1426', '24H_fluctate': '-4', '24H_fluctate_rate': '-0.27'}, 'MEETONE': [], 'ADD': [], 'HORUS': [], 'CHL': [], 'EOSDAC': [], 'BLACK': [], 'ROM': {'opening_price': '0.13', 'closing_price': '0.13', 'min_price': '0.12', 'max_price': '0.13', 'average_price': '0.1264', 'units_traded': '42435658575.70164615', 'volume_1day': '42435658575.70164615', 'volume_7day': '216834311406.565481660303161222', 'buy_price': '0.12', 'sell_price': '0.13', '24H_fluctate': '0', '24H_fluctate_rate': '0.00'}, 'AMO': {'opening_price': '1.78', 'closing_price': '1.6', 'min_price': '1.56', 'max_price': '1.78', 'average_price': '1.6999', 'units_traded': '727753049.81986406', 'volume_1day': '727753049.81986406', 'volume_7day': '24099569711.125327148728050134', 'buy_price': '1.59', 'sell_price': '1.6', '24H_fluctate': '-0.18', '24H_fluctate_rate': '-10.11'}, 'date': '1546567370643'}\n"
     ]
    }
   ],
   "source": [
    "currency = requests.get('https://api.bithumb.com/public/ticker/all').json()['data']\n",
    "print(currency)"
   ]
  },
  {
   "cell_type": "code",
   "execution_count": 43,
   "metadata": {},
   "outputs": [
    {
     "name": "stdout",
     "output_type": "stream",
     "text": [
      "BTC 상승장\n",
      "ETH 상승장\n",
      "DASH 상승장\n",
      "LTC 상승장\n",
      "ETC 상승장\n",
      "XRP 상승장\n",
      "BCH 상승장\n",
      "XMR 상승장\n",
      "ZEC 상승장\n",
      "QTUM 상승장\n",
      "BTG 상승장\n",
      "EOS 상승장\n",
      "ICX 상승장\n",
      "VET 상승장\n",
      "TRX 상승장\n",
      "ELF 상승장\n",
      "MITH 상승장\n",
      "MCO 상승장\n",
      "OMG 상승장\n",
      "KNC 상승장\n",
      "GNT 상승장\n",
      "ZIL 상승장\n",
      "ETHOS 상승장\n",
      "PAY 상승장\n",
      "WAX 상승장\n",
      "POWR 상승장\n",
      "LRC 상승장\n",
      "GTO 상승장\n",
      "STEEM 상승장\n",
      "STRAT 상승장\n",
      "ZRX 상승장\n",
      "REP 상승장\n",
      "AE 상승장\n",
      "XEM 상승장\n",
      "SNT 상승장\n",
      "ADA 상승장\n",
      "PPT 상승장\n",
      "CTXC 상승장\n",
      "CMT 상승장\n",
      "THETA 상승장\n",
      "WTC 상승장\n",
      "ITC 상승장\n",
      "TRUE 상승장\n",
      "ABT 상승장\n",
      "RNT 상승장\n",
      "PLY 상승장\n",
      "WAVES 상승장\n",
      "LINK 상승장\n",
      "ENJ 상승장\n",
      "PST 상승장\n",
      "SALT 상승장\n",
      "RDN 상승장\n",
      "LOOM 상승장\n",
      "BHPC 상승장\n",
      "PIVX 상승장\n",
      "INS 상승장\n",
      "BCD 상승장\n",
      "BZNT 상승장\n",
      "XLM 상승장\n",
      "OCN 상승장\n",
      "BSV 상승장\n",
      "TMTG 상승장\n",
      "BAT 상승장\n",
      "WET 상승장\n",
      "XVG 상승장\n",
      "IOST 상승장\n",
      "POLY 상승장\n",
      "HC 상승장\n",
      "ROM 상승장\n",
      "AMO 상승장\n"
     ]
    }
   ],
   "source": [
    "# 아래에 코드를 작성하세요.\n",
    "for k , v in currency.items():\n",
    "    if type(v) == dict:\n",
    "        opn = float(v['opening_price'])\n",
    "        flu = float(v['max_price']) - float(v['min_price'])\n",
    "        max_p =float(v['max_price'])\n",
    "    \n",
    "        if opn+flu > max_p:\n",
    "            print(k, '상승장')\n",
    "        else:\n",
    "            print(k, '하락장')"
   ]
  }
 ],
 "metadata": {
  "kernelspec": {
   "display_name": "Python 3",
   "language": "python",
   "name": "python3"
  },
  "language_info": {
   "codemirror_mode": {
    "name": "ipython",
    "version": 3
   },
   "file_extension": ".py",
   "mimetype": "text/x-python",
   "name": "python",
   "nbconvert_exporter": "python",
   "pygments_lexer": "ipython3",
   "version": "3.6.7"
  },
  "toc": {
   "base_numbering": 1,
   "nav_menu": {},
   "number_sections": true,
   "sideBar": true,
   "skip_h1_title": false,
   "title_cell": "Table of Contents",
   "title_sidebar": "Contents",
   "toc_cell": false,
   "toc_position": {},
   "toc_section_display": true,
   "toc_window_display": false
  }
 },
 "nbformat": 4,
 "nbformat_minor": 2
}
