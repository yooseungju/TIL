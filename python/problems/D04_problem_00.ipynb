{
 "cells": [
  {
   "cell_type": "markdown",
   "metadata": {},
   "source": [
    "## 최대공약수, 최소공배수 구하기\n",
    "\n",
    "> 두 수를 입력받아 두 수의 최대공약수와 최소공배수를 반환하는 함수, gcdlcm을 완성해 보세요.\n",
    ">\n",
    "> 배열의 맨 앞에 최대공약수, 그다음 최소공배수를 넣어 반환하면 됩니다. \n",
    ">\n",
    "> 예를 들어 두 수 3, 12의 최대공약수는 3, 최소공배수는 12이므로 `gcdlcm(3, 12)`는 `[3, 12]`를 반환해야 합니다. \n",
    "\n",
    "예시)\n",
    "\n",
    "```python\n",
    "gcdlcm(3, 12) #=> [3, 12]\n",
    "gcdlcm(1071, 1029) #=> [21, 52479]\n",
    "```"
   ]
  },
  {
   "cell_type": "code",
   "execution_count": 16,
   "metadata": {},
   "outputs": [],
   "source": [
    "# 여기에 코드를 작성하세요.\n",
    "def gcdlcm(num1, num2):\n",
    "    \n",
    "    on1 = num1\n",
    "    on2 = num2\n",
    "\n",
    "    if(num1 < num2):\n",
    "        tmp = num1 \n",
    "        num1 = num2\n",
    "        num2 = tmp\n",
    "        \n",
    "    mod = num1%num2\n",
    "        \n",
    "    while mod != 0: \n",
    "        num1 = num2\n",
    "        num2 = mod\n",
    "        mod = num1%num2\n",
    "        \n",
    "    return num2, int(on1*on2/num2)\n",
    "       "
   ]
  },
  {
   "cell_type": "code",
   "execution_count": 17,
   "metadata": {},
   "outputs": [
    {
     "name": "stdout",
     "output_type": "stream",
     "text": [
      "(3, 12)\n",
      "(21, 52479)\n"
     ]
    }
   ],
   "source": [
    "print(gcdlcm(3, 12))\n",
    "print(gcdlcm(1071, 1029))"
   ]
  },
  {
   "cell_type": "markdown",
   "metadata": {},
   "source": [
    "## URL 편하게 만들기\n",
    "\n",
    "> url 패턴을 만들어 문자열을 반환하는 `my_url` 함수를 만들어봅시다.\n",
    ">\n",
    "> 영진위에서 제공하는 일별 박스오피스 API 서비스는 다음과 같은 방식으로 요청을 받습니다.\n",
    "\n",
    "```\n",
    "기본 요청 URL : http://www.kobis.or.kr/kobisopenapi/webservice/rest/boxoffice/searchDailyBoxOfficeList.json?\n",
    "```\n",
    "\n",
    "* key : 발급받은 키값(abc)\n",
    "* targetDt : yyyymmdd\n",
    "* itemPerPage : 1 ~ 10 **기본 10**\n",
    "---\n",
    "\n",
    "예시)\n",
    "```python\n",
    "api = {\n",
    "    'key': 'abc',\n",
    "    'targetDt': 'yyyymmdd'\n",
    "}\n",
    "my_url(**api)\n",
    "```\n",
    "\n",
    "예시 출력)\n",
    "```python\n",
    "'http://www.kobis.or.kr/kobisopenapi/webservice/rest/boxoffice/searchDailyBoxOfficeList.json?key=abc&targetDt=yyyymmdd&'\n",
    "```"
   ]
  },
  {
   "cell_type": "code",
   "execution_count": 10,
   "metadata": {},
   "outputs": [
    {
     "name": "stdout",
     "output_type": "stream",
     "text": [
      "http://www.kobis.or.kr/kobisopenapi/webservice/rest/boxoffice/searchDailyBoxOfficeList.json?itemsPerPage=10&key=430156241533f1d058c603178cc3ca0e&targetDt=20120101&\n"
     ]
    }
   ],
   "source": [
    "# 여기에 코드를 작성해주세요.\n",
    "def my_url(itemsPerPage = 10, **d):\n",
    "    if(itemsPerPage > 10):\n",
    "        print(\"1~10까지의 값을 넣어주세요.\")\n",
    "    else:\n",
    "        url = \"http://www.kobis.or.kr/kobisopenapi/webservice/rest/boxoffice/searchDailyBoxOfficeList.json?\"\n",
    "        url = url +\"itemsPerPage\"+\"=\" +str(itemsPerPage) + \"&\"\n",
    "        for k, v in d.items():\n",
    "            if v and k: \n",
    "                url = url + k + \"=\" + v + \"&\"\n",
    "            else:\n",
    "                print('필수 요청변수가 누락되었습니다.')\n",
    "                \n",
    "        \n",
    "        print(url)\n",
    "             \n",
    "api = {\n",
    "    'key': '430156241533f1d058c603178cc3ca0e',\n",
    "    'targetDt': '20120101'\n",
    "}\n",
    "\n",
    "\n",
    "my_url(**api, itemsPerPage = 10)"
   ]
  },
  {
   "cell_type": "markdown",
   "metadata": {},
   "source": [
    "## URL 검증하기\n",
    "\n",
    "> 이제 우리는 만들어진 요청 보내기전에 URL을 검증해야합니다. \n",
    ">\n",
    "> 앞선 설명을 참고하여 검증 로직을 구현하고 문자열을 반환하세요.\n",
    "\n",
    "```\n",
    "> 아래의 두가지 상황만 만들도록 하겠습니다. <\n",
    "\n",
    "1. key, targetDt가 없으면, '필수 요청변수가 누락되었습니다.'\n",
    "\n",
    "2. itemPerPage의 범위가 1~10을 넘어가면, '1~10까지의 값을 넣어주세요.'\n",
    "```"
   ]
  },
  {
   "cell_type": "code",
   "execution_count": 13,
   "metadata": {},
   "outputs": [
    {
     "name": "stdout",
     "output_type": "stream",
     "text": [
      "http://www.kobis.or.kr/kobisopenapi/webservice/rest/boxoffice/searchDailyBoxOfficeList.json?itemsPerPage=10&key=430156241533f1d058c603178cc3ca0e&targetDt=20170101&\n",
      "1~10까지의 값을 넣어주세요.\n",
      "3\n"
     ]
    }
   ],
   "source": [
    "# 여기에 코드를 작성해주세요.\n",
    "\n",
    "api = {\n",
    "    'key': '430156241533f1d058c603178cc3ca0e',\n",
    "    'targetDt': '20170101'\n",
    "}\n",
    "\n",
    " \n",
    "my_url(**api)\n",
    "my_url(15, **api)\n",
    "\n"
   ]
  },
  {
   "cell_type": "code",
   "execution_count": 17,
   "metadata": {},
   "outputs": [],
   "source": [
    "def return_test():\n",
    "    return \"대전2반\"\n",
    "def print_test():\n",
    "    print(\"대전2반\")"
   ]
  },
  {
   "cell_type": "code",
   "execution_count": 18,
   "metadata": {},
   "outputs": [
    {
     "name": "stdout",
     "output_type": "stream",
     "text": [
      "우리는 <function return_test at 0x000001FFF74D2840> 입니다\n",
      "우리는 <function print_test at 0x000001FFF7569488> 입니다\n"
     ]
    }
   ],
   "source": [
    "print(f'우리는 {return_test} 입니다')\n",
    "print(f'우리는 {print_test} 입니다')"
   ]
  },
  {
   "cell_type": "markdown",
   "metadata": {},
   "source": [
    "### 양축평가"
   ]
  },
  {
   "cell_type": "code",
   "execution_count": 20,
   "metadata": {},
   "outputs": [
    {
     "data": {
      "text/plain": [
       "False"
      ]
     },
     "execution_count": 20,
     "metadata": {},
     "output_type": "execute_result"
    }
   ],
   "source": [
    "vowel = 'aeiou'\n",
    "('a' and 'b') in vowel"
   ]
  },
  {
   "cell_type": "code",
   "execution_count": 21,
   "metadata": {},
   "outputs": [
    {
     "data": {
      "text/plain": [
       "True"
      ]
     },
     "execution_count": 21,
     "metadata": {},
     "output_type": "execute_result"
    }
   ],
   "source": [
    "('b' and 'a') in vowel"
   ]
  },
  {
   "cell_type": "code",
   "execution_count": null,
   "metadata": {},
   "outputs": [],
   "source": []
  },
  {
   "cell_type": "code",
   "execution_count": null,
   "metadata": {},
   "outputs": [],
   "source": []
  }
 ],
 "metadata": {
  "kernelspec": {
   "display_name": "Python 3",
   "language": "python",
   "name": "python3"
  },
  "language_info": {
   "codemirror_mode": {
    "name": "ipython",
    "version": 3
   },
   "file_extension": ".py",
   "mimetype": "text/x-python",
   "name": "python",
   "nbconvert_exporter": "python",
   "pygments_lexer": "ipython3",
   "version": "3.6.7"
  },
  "toc": {
   "base_numbering": 1,
   "nav_menu": {},
   "number_sections": true,
   "sideBar": true,
   "skip_h1_title": false,
   "title_cell": "Table of Contents",
   "title_sidebar": "Contents",
   "toc_cell": false,
   "toc_position": {},
   "toc_section_display": true,
   "toc_window_display": false
  }
 },
 "nbformat": 4,
 "nbformat_minor": 2
}
