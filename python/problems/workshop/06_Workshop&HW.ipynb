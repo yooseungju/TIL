{
 "cells": [
  {
   "cell_type": "code",
   "execution_count": 3,
   "metadata": {
    "scrolled": true
   },
   "outputs": [
    {
     "name": "stdout",
     "output_type": "stream",
     "text": [
      "2\n",
      "1.4142135623842478\n"
     ]
    }
   ],
   "source": [
    "from math import isclose\n",
    "num = float(input())\n",
    "\n",
    "def my_abs(num):\n",
    "    first = 1\n",
    "    middle = num\n",
    "    \n",
    "    while not isclose(middle, first, rel_tol = 1e-9):\n",
    "        if (num-first**2) < (middle**2-num):\n",
    "            middle = (first+middle)/2\n",
    "        else:\n",
    "            first = (first+middle)/2  \n",
    "    return middle\n",
    "\n",
    "print(my_abs(num))"
   ]
  },
  {
   "cell_type": "markdown",
   "metadata": {},
   "source": [
    "## Homwork\n",
    "#### 1.  abs(), isdigit(), map(), zip(), sum(), str(), int(), index(), sort(), reverse()\n",
    "#### 2.  1\n",
    "#### 3. "
   ]
  },
  {
   "cell_type": "code",
   "execution_count": 4,
   "metadata": {},
   "outputs": [
    {
     "name": "stdout",
     "output_type": "stream",
     "text": [
      "6\n",
      "6\n"
     ]
    }
   ],
   "source": [
    "def my_mul(a,b = 1):\n",
    "    return a*b\n",
    "\n",
    "print(my_mul(2,3))\n",
    "print(my_mul(6))"
   ]
  },
  {
   "cell_type": "code",
   "execution_count": null,
   "metadata": {},
   "outputs": [],
   "source": []
  }
 ],
 "metadata": {
  "kernelspec": {
   "display_name": "Python 3",
   "language": "python",
   "name": "python3"
  },
  "language_info": {
   "codemirror_mode": {
    "name": "ipython",
    "version": 3
   },
   "file_extension": ".py",
   "mimetype": "text/x-python",
   "name": "python",
   "nbconvert_exporter": "python",
   "pygments_lexer": "ipython3",
   "version": "3.6.7"
  }
 },
 "nbformat": 4,
 "nbformat_minor": 2
}
