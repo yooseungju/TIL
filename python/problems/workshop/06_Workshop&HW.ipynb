{
 "cells": [
  {
   "cell_type": "code",
   "execution_count": null,
   "metadata": {},
   "outputs": [],
   "source": [
    "num = float(input())\n",
    "\n",
    "def my_abs(num):\n",
    "    first = 1\n",
    "    middle = num\n",
    "    \n",
    "    while (num-first**2) != (middle**2-num) :\n",
    "        if (num-first**2) < (middle**2-num):\n",
    "            middle = (first+middle)/2\n",
    "        else:\n",
    "            first = (first+middle)/2\n",
    "    return middle\n",
    "\n",
    "print(my_abs(num))\n",
    "\n",
    "\n",
    "\n",
    "\n",
    "\n",
    "    "
   ]
  },
  {
   "cell_type": "code",
   "execution_count": null,
   "metadata": {},
   "outputs": [],
   "source": [
    "\n"
   ]
  },
  {
   "cell_type": "code",
   "execution_count": null,
   "metadata": {},
   "outputs": [],
   "source": []
  }
 ],
 "metadata": {
  "kernelspec": {
   "display_name": "Python 3",
   "language": "python",
   "name": "python3"
  },
  "language_info": {
   "codemirror_mode": {
    "name": "ipython",
    "version": 3
   },
   "file_extension": ".py",
   "mimetype": "text/x-python",
   "name": "python",
   "nbconvert_exporter": "python",
   "pygments_lexer": "ipython3",
   "version": "3.6.7"
  }
 },
 "nbformat": 4,
 "nbformat_minor": 2
}
