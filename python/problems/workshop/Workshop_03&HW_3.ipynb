{
 "cells": [
  {
   "cell_type": "code",
   "execution_count": 43,
   "metadata": {},
   "outputs": [
    {
     "data": {
      "text/plain": [
       "True"
      ]
     },
     "execution_count": 43,
     "metadata": {},
     "output_type": "execute_result"
    }
   ],
   "source": [
    "def palindrome(word): \n",
    "    return list(word) == list(reverse(word))\n",
    "\n",
    "# def check_palindrome(pal):\n",
    "#     for i in range(int(len(pal) / 2) + 1):\n",
    "#         if pal[i] != pal[-i-1]:\n",
    "#             return False\n",
    "#     return True\n",
    "\n",
    "# def ispalindrome(word):\n",
    "#     left_word = 0\n",
    "#     right_word = len(word)-1\n",
    "    \n",
    "#     while right_word>=left_word:\n",
    "#         if word[left_word] != word[right_word]:\n",
    "#             return False\n",
    "#         left_word += 1\n",
    "#         right_word -= 1\n",
    "#     return True\n",
    "\n",
    "# def ispalindrome(word):\n",
    "#     list_word = list(word)\n",
    "#     for i in range(len(list_word)//2):\n",
    "#         if list_word[i] != list_word[-i-1]:\n",
    "#             return False\n",
    "#     return True\n",
    "\n",
    "# def ispalindrome(word):\n",
    "#     return list(word) == list(reversed(word))\n",
    "\n",
    "def ispalindrome(word):\n",
    "    return list(word) == list(word)[::-1]\n",
    "\n",
    "palindrome('salppuakivikaupplas')\n",
    "    "
   ]
  },
  {
   "cell_type": "code",
   "execution_count": 38,
   "metadata": {},
   "outputs": [
    {
     "name": "stdout",
     "output_type": "stream",
     "text": [
      "1\n",
      "2\n",
      "3\n",
      "4\n",
      "5\n",
      "6\n",
      "7\n",
      "8\n",
      "9\n"
     ]
    }
   ],
   "source": [
    "my_list = [1,2,3,4,5,6,7,8,9]\n",
    "for i in my_list:\n",
    "    print(i)"
   ]
  },
  {
   "cell_type": "code",
   "execution_count": 39,
   "metadata": {},
   "outputs": [
    {
     "name": "stdout",
     "output_type": "stream",
     "text": [
      "0 1\n",
      "1 2\n",
      "2 3\n",
      "3 4\n",
      "4 5\n",
      "5 6\n",
      "6 7\n",
      "7 8\n",
      "8 9\n"
     ]
    }
   ],
   "source": [
    "for i, v in enumerate(my_list):\n",
    "    print(i,v)"
   ]
  },
  {
   "cell_type": "markdown",
   "metadata": {},
   "source": [
    "3. \n",
    "for key in my_dict.keys()\n",
    "for key in my_dict.values()\n",
    "for key, value in my_dict.item\n",
    "\n",
    "4. none"
   ]
  }
 ],
 "metadata": {
  "kernelspec": {
   "display_name": "Python 3",
   "language": "python",
   "name": "python3"
  },
  "language_info": {
   "codemirror_mode": {
    "name": "ipython",
    "version": 3
   },
   "file_extension": ".py",
   "mimetype": "text/x-python",
   "name": "python",
   "nbconvert_exporter": "python",
   "pygments_lexer": "ipython3",
   "version": "3.6.7"
  }
 },
 "nbformat": 4,
 "nbformat_minor": 2
}
